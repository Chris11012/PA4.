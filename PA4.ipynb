{
 "cells": [
  {
   "cell_type": "markdown",
   "id": "d0de0117",
   "metadata": {},
   "source": [
    "# Assignment 4\n",
    "## Christopher Douglas\n",
    "### Version 1\n",
    "#### Computer Prog for Liberal Arts (CS-150-01)"
   ]
  },
  {
   "cell_type": "code",
   "execution_count": 103,
   "id": "4ddb9d6f",
   "metadata": {},
   "outputs": [
    {
     "name": "stdout",
     "output_type": "stream",
     "text": [
      "0\n",
      "1\n",
      "2\n",
      "3\n",
      "4\n",
      "5\n",
      "6 *\n",
      "7\n",
      "8\n",
      "9 *\n",
      "10\n",
      "11\n",
      "12 *\n",
      "13\n",
      "14\n",
      "15 *\n",
      "16\n",
      "17\n",
      "18 *\n",
      "19\n",
      "20\n",
      "21 *\n",
      "22\n",
      "23\n",
      "24 *\n",
      "25\n",
      "26\n",
      "27 *\n",
      "28\n",
      "29\n",
      "30 *\n",
      "31\n",
      "32\n",
      "33 *\n",
      "34\n",
      "35\n",
      "36 *\n",
      "37\n",
      "38\n",
      "39 *\n",
      "40\n",
      "41\n",
      "42 *\n",
      "43\n",
      "44\n",
      "45 *\n",
      "46\n",
      "47\n",
      "48 *\n",
      "49\n",
      "50\n",
      "51 *\n",
      "52\n",
      "53\n",
      "54 *\n",
      "55\n",
      "56\n",
      "57 *\n",
      "58\n",
      "59\n",
      "60 *\n",
      "61\n",
      "62\n",
      "63 *\n",
      "64\n",
      "65\n",
      "66 *\n",
      "67\n",
      "68\n",
      "69 *\n",
      "70\n",
      "71\n",
      "72 *\n",
      "73\n",
      "74\n",
      "75 *\n",
      "76\n",
      "77\n",
      "78 *\n",
      "79\n",
      "80\n",
      "81 *\n",
      "82\n",
      "83\n",
      "84 *\n",
      "85\n",
      "86\n",
      "87 *\n",
      "88\n",
      "89\n",
      "90 *\n",
      "91\n",
      "92\n",
      "93 *\n",
      "94\n",
      "95\n",
      "96 *\n",
      "97\n",
      "98\n",
      "99 *\n"
     ]
    }
   ],
   "source": [
    "for number in range(0,100):\n",
    "    if number >3 and number%3==0:\n",
    "        print(number,\"*\")\n",
    "    else:\n",
    "        print(number)"
   ]
  },
  {
   "cell_type": "code",
   "execution_count": 76,
   "id": "86920718",
   "metadata": {},
   "outputs": [
    {
     "name": "stdout",
     "output_type": "stream",
     "text": [
      "Enter the month number: 13\n",
      "Invalid input\n"
     ]
    }
   ],
   "source": [
    "month = int(input(\"Enter the month number: \"))\n",
    "if (month==1):\n",
    "    print (\"January has 31 days in the month\")\n",
    "elif (month==2):\n",
    "    print(\"February has 28 days in the month\")\n",
    "elif (month==3):\n",
    "    print(\"March has 31 days in the month\")\n",
    "elif (month==4):\n",
    "    print(\"April has 30 days in the month\")\n",
    "elif (month==5):\n",
    "    print(\"May has 31 days in the month\")\n",
    "elif (month==6):\n",
    "    print(\"June has 30 days in the month\")\n",
    "elif (month==7):\n",
    "    print(\"July has 31 days in the month\")\n",
    "elif (month==8):\n",
    "    print(\"August has 31 days in the month\")\n",
    "elif (month==9):\n",
    "    print(\"September has 30 days in the month\")\n",
    "elif(month==10):\n",
    "    print(\"October has 31 days in the month\")\n",
    "elif(month==11):\n",
    "    print(\"November has 30 days in the month\")\n",
    "elif(month==12):\n",
    "    print(\"December has 31 days in the month\")\n",
    "    \n",
    "else: print(\"Invalid input\")\n"
   ]
  },
  {
   "cell_type": "code",
   "execution_count": 92,
   "id": "5f1a8e7c",
   "metadata": {},
   "outputs": [
    {
     "name": "stdout",
     "output_type": "stream",
     "text": [
      "Enter a number: 4\n",
      "4 is not a prime number\n"
     ]
    }
   ],
   "source": [
    "number1 = int(input(\"Enter a number: \"))\n",
    "if number1 > 1:\n",
    "    for i in range(2, number1):\n",
    "        if (number1 % i) == 0:\n",
    "            print(number1, \"is not a prime number\")\n",
    "            break\n",
    "    else:\n",
    "        print(number1, \"is a prime number\")\n",
    "\n",
    "else:\n",
    "    print(number1, \"is not a prime number\")"
   ]
  },
  {
   "cell_type": "code",
   "execution_count": 95,
   "id": "d31620d9",
   "metadata": {},
   "outputs": [
    {
     "name": "stdout",
     "output_type": "stream",
     "text": [
      "Enter first side : 4\n",
      "Enter second side : 2\n",
      "Enter third side : 14\n",
      "Scalene Triangle\n"
     ]
    }
   ],
   "source": [
    "a = int(input(\"Enter first side : \"))\n",
    "b = int(input(\"Enter second side : \"))\n",
    "c = int(input(\"Enter third side : \"))\n",
    "\n",
    "if a == b and b == c :\n",
    "    print(\"Equilateral Triangle\")\n",
    "elif a == b or b == c or c == a:\n",
    "    print(\"Isosceles Triangle\")\n",
    "else :\n",
    "    print(\"Scalene Triangle\")"
   ]
  },
  {
   "cell_type": "code",
   "execution_count": 101,
   "id": "24495366",
   "metadata": {},
   "outputs": [
    {
     "name": "stdout",
     "output_type": "stream",
     "text": [
      "65 : senior\n",
      "78 : senior\n",
      "34 : adult\n",
      "56 : adult\n",
      "12 : minor\n",
      "9 : minor\n",
      "43 : adult\n",
      "67 : senior\n"
     ]
    }
   ],
   "source": [
    "age1 = [65,78,34,56,12,9,43,67]\n",
    "for age in age1:\n",
    "    if age <18:\n",
    "        print(age,\": minor\")\n",
    "    elif age <=64:\n",
    "        print(age, \": adult\")\n",
    "    else:\n",
    "        print(age, \": senior\")\n"
   ]
  }
 ],
 "metadata": {
  "kernelspec": {
   "display_name": "Python 3 (ipykernel)",
   "language": "python",
   "name": "python3"
  },
  "language_info": {
   "codemirror_mode": {
    "name": "ipython",
    "version": 3
   },
   "file_extension": ".py",
   "mimetype": "text/x-python",
   "name": "python",
   "nbconvert_exporter": "python",
   "pygments_lexer": "ipython3",
   "version": "3.9.13"
  }
 },
 "nbformat": 4,
 "nbformat_minor": 5
}
